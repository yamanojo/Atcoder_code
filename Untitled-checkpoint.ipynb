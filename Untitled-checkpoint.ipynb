{
 "cells": [
  {
   "cell_type": "code",
   "execution_count": 1,
   "metadata": {},
   "outputs": [],
   "source": [
    " A = {}"
   ]
  },
  {
   "cell_type": "code",
   "execution_count": 3,
   "metadata": {},
   "outputs": [],
   "source": [
    "import numpy as np\n"
   ]
  },
  {
   "cell_type": "code",
   "execution_count": 27,
   "metadata": {},
   "outputs": [],
   "source": [
    "a = [1,2,3,4,5]"
   ]
  },
  {
   "cell_type": "code",
   "execution_count": 28,
   "metadata": {},
   "outputs": [
    {
     "data": {
      "text/plain": [
       "[1, 2]"
      ]
     },
     "execution_count": 28,
     "metadata": {},
     "output_type": "execute_result"
    }
   ],
   "source": [
    "a[:3-1]"
   ]
  },
  {
   "cell_type": "code",
   "execution_count": 30,
   "metadata": {},
   "outputs": [
    {
     "data": {
      "text/plain": [
       "[4, 5]"
      ]
     },
     "execution_count": 30,
     "metadata": {},
     "output_type": "execute_result"
    }
   ],
   "source": [
    "\n",
    "a[3:]"
   ]
  },
  {
   "cell_type": "code",
   "execution_count": null,
   "metadata": {},
   "outputs": [],
   "source": [
    "[a,b,c,d]\n",
    "3\n",
    "c->a->b\n",
    "\n",
    "2\n",
    "b->c\n"
   ]
  },
  {
   "cell_type": "code",
   "execution_count": 4,
   "metadata": {},
   "outputs": [],
   "source": [
    "s = np.array([1,2,3])"
   ]
  },
  {
   "cell_type": "code",
   "execution_count": 22,
   "metadata": {},
   "outputs": [
    {
     "data": {
      "text/plain": [
       "1"
      ]
     },
     "execution_count": 22,
     "metadata": {},
     "output_type": "execute_result"
    }
   ],
   "source": [
    "bisect.bisect_left(s,1.5)"
   ]
  },
  {
   "cell_type": "code",
   "execution_count": null,
   "metadata": {},
   "outputs": [],
   "source": [
    "[a,b,c,d,e]\n",
    "\n",
    "\n",
    "\n",
    "b -> c -> d\n",
    "\n",
    "c -> d\n",
    "c -> b -> a\n"
   ]
  },
  {
   "cell_type": "markdown",
   "metadata": {},
   "source": [
    "[a,b,c,d,e,f]\n",
    "\n",
    "c -> e -> d\n",
    "d -> c-> b -> a\n",
    "d -> b -> c\n",
    "\n",
    "\n"
   ]
  },
  {
   "cell_type": "code",
   "execution_count": null,
   "metadata": {},
   "outputs": [],
   "source": []
  },
  {
   "cell_type": "code",
   "execution_count": 31,
   "metadata": {},
   "outputs": [],
   "source": [
    "T = list(range(1,11))"
   ]
  },
  {
   "cell_type": "code",
   "execution_count": 34,
   "metadata": {},
   "outputs": [
    {
     "data": {
      "text/plain": [
       "[1, 2, 3, 4, 5, 6, 7, 8, 9, 10]"
      ]
     },
     "execution_count": 34,
     "metadata": {},
     "output_type": "execute_result"
    }
   ],
   "source": []
  },
  {
   "cell_type": "code",
   "execution_count": 43,
   "metadata": {},
   "outputs": [
    {
     "data": {
      "text/plain": [
       "[1, 2, 3, 4, 5, 6, 7, 8, 9, 10]"
      ]
     },
     "execution_count": 43,
     "metadata": {},
     "output_type": "execute_result"
    }
   ],
   "source": [
    "T"
   ]
  },
  {
   "cell_type": "code",
   "execution_count": 45,
   "metadata": {},
   "outputs": [
    {
     "data": {
      "text/plain": [
       "[9, 10]"
      ]
     },
     "execution_count": 45,
     "metadata": {},
     "output_type": "execute_result"
    }
   ],
   "source": [
    "8 +9\n",
    "\n",
    "8 + "
   ]
  },
  {
   "cell_type": "code",
   "execution_count": null,
   "metadata": {},
   "outputs": [],
   "source": [
    "def calc(T,ans=0):\n",
    "    l = len(T)\n",
    "    if l==1:\n",
    "        return ans\n",
    "    if l==2:\n",
    "        ans += T[0]\n",
    "        return ans\n",
    "    if l== 3:\n",
    "        ans += (T[0]+T[1])\n",
    "        return ans\n",
    "    if l==4:\n",
    "        ans += (T[1]+T[2])\n",
    "        return ans\n",
    "    T1 = T[:-2]\n",
    "    T2 = T[-2:]\n",
    "    ans += T1[-1]\n",
    "    return max(calc(T1,ans),calc(T2,ans))"
   ]
  },
  {
   "cell_type": "code",
   "execution_count": 61,
   "metadata": {},
   "outputs": [
    {
     "data": {
      "text/plain": [
       "16"
      ]
     },
     "execution_count": 61,
     "metadata": {},
     "output_type": "execute_result"
    }
   ],
   "source": [
    "7 + 4 + 2 + 3"
   ]
  },
  {
   "cell_type": "code",
   "execution_count": 62,
   "metadata": {},
   "outputs": [
    {
     "data": {
      "text/plain": [
       "24"
      ]
     },
     "execution_count": 62,
     "metadata": {},
     "output_type": "execute_result"
    }
   ],
   "source": [
    "7 + 8 + 9"
   ]
  },
  {
   "cell_type": "code",
   "execution_count": null,
   "metadata": {},
   "outputs": [],
   "source": []
  },
  {
   "cell_type": "code",
   "execution_count": 58,
   "metadata": {},
   "outputs": [
    {
     "data": {
      "text/plain": [
       "[1, 2, 3, 4, 5, 6, 7]"
      ]
     },
     "execution_count": 58,
     "metadata": {},
     "output_type": "execute_result"
    }
   ],
   "source": [
    "T[:-3]"
   ]
  },
  {
   "cell_type": "code",
   "execution_count": 59,
   "metadata": {},
   "outputs": [
    {
     "data": {
      "text/plain": [
       "[8, 9, 10]"
      ]
     },
     "execution_count": 59,
     "metadata": {},
     "output_type": "execute_result"
    }
   ],
   "source": [
    "T[-3:]"
   ]
  },
  {
   "cell_type": "code",
   "execution_count": null,
   "metadata": {},
   "outputs": [],
   "source": []
  },
  {
   "cell_type": "code",
   "execution_count": null,
   "metadata": {},
   "outputs": [],
   "source": []
  },
  {
   "cell_type": "code",
   "execution_count": 127,
   "metadata": {},
   "outputs": [],
   "source": [
    "def calc(T,ans=0):\n",
    "    l = len(T)\n",
    "    if l==1:\n",
    "        return ans\n",
    "    if l==2:\n",
    "        ans += T[0]\n",
    "        return ans\n",
    "    if l== 3:\n",
    "        ans += (T[0]+T[1])\n",
    "        return ans\n",
    "    if l==4:\n",
    "        ans += (T[1]+T[2])\n",
    "        return ans\n",
    "    # l>= 5 \n",
    "    check_ind_min = l//2\n",
    "    check_ind_max = max(check_ind_min,l-2)# 端だけをチェックする意味がないので，端から2つ以上先を調べる\n",
    "    min_ans = 0\n",
    "    \n",
    "    # 最初のチェックをどれから始めるか\n",
    "    for i in range(2,check_ind_max+1):\n",
    "        T1 = T[:i]\n",
    "        T2 = T[i:]\n",
    "        \n",
    "#         print(T1)\n",
    "#         print(T2)\n",
    "        # チェックに必要な最大時間\n",
    "        tmp_sum = T1[-1] + max(calc(T1),calc(T2))\n",
    "        if min_ans ==0:\n",
    "            min_ans = tmp_sum\n",
    "        if min_ans > tmp_sum:\n",
    "            min_ans = tmp_sum\n",
    "#             print(i)\n",
    "        \n",
    "    ans += min_ans\n",
    "        \n",
    "    return ans"
   ]
  },
  {
   "cell_type": "code",
   "execution_count": 128,
   "metadata": {
    "scrolled": true
   },
   "outputs": [
    {
     "data": {
      "text/plain": [
       "2300"
      ]
     },
     "execution_count": 128,
     "metadata": {},
     "output_type": "execute_result"
    }
   ],
   "source": [
    "calc([1,200,300,400,500,600,700,800,900,1000])"
   ]
  },
  {
   "cell_type": "code",
   "execution_count": null,
   "metadata": {},
   "outputs": [],
   "source": [
    "\n"
   ]
  },
  {
   "cell_type": "code",
   "execution_count": 114,
   "metadata": {},
   "outputs": [
    {
     "data": {
      "text/plain": [
       "6"
      ]
     },
     "execution_count": 114,
     "metadata": {},
     "output_type": "execute_result"
    }
   ],
   "source": [
    "3+1+2"
   ]
  },
  {
   "cell_type": "code",
   "execution_count": 120,
   "metadata": {},
   "outputs": [
    {
     "data": {
      "text/plain": [
       "[1, 2, 3, 4, 5]"
      ]
     },
     "execution_count": 120,
     "metadata": {},
     "output_type": "execute_result"
    }
   ],
   "source": [
    "T[:5]"
   ]
  },
  {
   "cell_type": "code",
   "execution_count": 47,
   "metadata": {},
   "outputs": [
    {
     "data": {
      "text/plain": [
       "17"
      ]
     },
     "execution_count": 47,
     "metadata": {},
     "output_type": "execute_result"
    }
   ],
   "source": []
  },
  {
   "cell_type": "markdown",
   "metadata": {},
   "source": [
    "2つ →　1度実行\n",
    "[v1,v2] -> v1\n",
    "\n",
    "3つ -> 2度実行\n",
    "[v1,v2,v3]-> v1+v2\n",
    "\n",
    "4つ -> 2度実行\n",
    "[v1,v2,v3,v4]-> v2 + v3\n",
    "\n",
    "5つ ->\n",
    "[v1,v2,v3,v4,v5]-> v3 + v2 + v1 or v3 + v4\n",
    "\n",
    "\n",
    "6つ\n",
    "[v1,v2,v3,v4,v5,v6] -> \n",
    "\n",
    "v3から\n",
    "v3 + [v4,v5,v6] = v3 + v4 + v5 \n",
    "v4から\n",
    "v4 + max[(v1,v2,v3,v4], [v5,v6]) = v4 + max(v2+v3,v5)= v2+v3+v4 or v4+v5\n",
    "\n",
    "v4からが正解\n",
    "\n",
    "\n",
    "7つ\n",
    "v4から\n",
    "v4 + [1-4] or v4 + [5-7] \n",
    "v2+v3+v4 or v4+v5+v6\n",
    "v4+v5+v6\n",
    "\n",
    "v5から\n",
    "v5 + [1-5] or v6\n",
    "v1 + v2 + v3 + v5 or v3 +v4 + v5 or v5 +v6 \n",
    "\n",
    "\n",
    "v5+[6-7] or v5 + [1-5]\n",
    "\n",
    "\n",
    "8つ\n",
    "v4から\n",
    "v4 + [5-8]\n",
    "v4+v6+v7\n",
    "\n",
    "v5から\n",
    "v5 + [1-5] or [6-8]\n",
    "\n",
    "\n",
    "v6から\n",
    "v6 + [1-6] or [7-8]\n",
    "\n",
    "\n",
    "\n",
    "a,b,c,d,e,f\n",
    "\n",
    "c -> d,e,fの調査\n",
    "\n",
    "\n",
    "d -> e,f の調査，　a,b,c,dの調査\n",
    "\n",
    "\n"
   ]
  },
  {
   "cell_type": "code",
   "execution_count": null,
   "metadata": {},
   "outputs": [],
   "source": [
    "[]"
   ]
  },
  {
   "cell_type": "code",
   "execution_count": 26,
   "metadata": {},
   "outputs": [],
   "source": [
    "T = [1]*10\n",
    "\n",
    "T_sum = []\n",
    "tmp_t = 0\n",
    "for t in T:\n",
    "    tmp_t += T[i]\n",
    "    T_sum.append(tmp_t)\n",
    "    \n",
    "for i in range():"
   ]
  },
  {
   "cell_type": "code",
   "execution_count": 25,
   "metadata": {},
   "outputs": [
    {
     "name": "stdout",
     "output_type": "stream",
     "text": [
      "aaa 200\n",
      "abc 500\n",
      "acb 300\n"
     ]
    }
   ],
   "source": [
    "a = {}\n",
    "\n",
    "a[\"abc\"] = 500\n",
    "a[\"acb\"] = 300\n",
    "a[\"aaa\"] = 200\n",
    "\n",
    "for name,v in sorted(a.items()):\n",
    "    print(name +\" \" +(\"{}\").format(v))\n"
   ]
  }
 ],
 "metadata": {
  "kernelspec": {
   "display_name": "Python 3",
   "language": "python",
   "name": "python3"
  },
  "language_info": {
   "codemirror_mode": {
    "name": "ipython",
    "version": 3
   },
   "file_extension": ".py",
   "mimetype": "text/x-python",
   "name": "python",
   "nbconvert_exporter": "python",
   "pygments_lexer": "ipython3",
   "version": "3.6.4"
  },
  "toc": {
   "base_numbering": 1,
   "nav_menu": {},
   "number_sections": true,
   "sideBar": true,
   "skip_h1_title": false,
   "title_cell": "Table of Contents",
   "title_sidebar": "Contents",
   "toc_cell": false,
   "toc_position": {},
   "toc_section_display": true,
   "toc_window_display": false
  }
 },
 "nbformat": 4,
 "nbformat_minor": 2
}
