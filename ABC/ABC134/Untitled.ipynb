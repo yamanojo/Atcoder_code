{
 "cells": [
  {
   "cell_type": "code",
   "execution_count": 14,
   "metadata": {},
   "outputs": [
    {
     "name": "stdout",
     "output_type": "stream",
     "text": [
      "5\n",
      "0 0 0 1 0\n",
      "2 4\n"
     ]
    }
   ],
   "source": [
    "N = int(input())\n",
    "a_ls = list(map(int,input().split(\" \")))\n",
    "N = [0]*N\n",
    "l = len(a_ls)\n",
    "\n",
    "# 大きい方からチェック\n",
    "for i in range(l):\n",
    "    a = a_ls[-(i+1)]\n",
    "    s = sum(N[(l-i)-1::(l-i)])%2\n",
    "    # print(s)\n",
    "    # print(a)\n",
    "    if a != s:\n",
    "        N[-(i+1)]=1\n",
    "        \n",
    "sen = \"\"\n",
    "for i,n in enumerate(N):\n",
    "    if n == 1:\n",
    "        sen += \"{} \".format(i+1)\n",
    "\n",
    "if len(sen) == 0:\n",
    "    print(0)\n",
    "else:\n",
    "    print(sen[:-1])\n"
   ]
  },
  {
   "cell_type": "code",
   "execution_count": null,
   "metadata": {},
   "outputs": [],
   "source": []
  }
 ],
 "metadata": {
  "kernelspec": {
   "display_name": "Python 3",
   "language": "python",
   "name": "python3"
  },
  "language_info": {
   "codemirror_mode": {
    "name": "ipython",
    "version": 3
   },
   "file_extension": ".py",
   "mimetype": "text/x-python",
   "name": "python",
   "nbconvert_exporter": "python",
   "pygments_lexer": "ipython3",
   "version": "3.6.4"
  },
  "varInspector": {
   "cols": {
    "lenName": 16,
    "lenType": 16,
    "lenVar": 40
   },
   "kernels_config": {
    "python": {
     "delete_cmd_postfix": "",
     "delete_cmd_prefix": "del ",
     "library": "var_list.py",
     "varRefreshCmd": "print(var_dic_list())"
    },
    "r": {
     "delete_cmd_postfix": ") ",
     "delete_cmd_prefix": "rm(",
     "library": "var_list.r",
     "varRefreshCmd": "cat(var_dic_list()) "
    }
   },
   "types_to_exclude": [
    "module",
    "function",
    "builtin_function_or_method",
    "instance",
    "_Feature"
   ],
   "window_display": false
  }
 },
 "nbformat": 4,
 "nbformat_minor": 2
}
