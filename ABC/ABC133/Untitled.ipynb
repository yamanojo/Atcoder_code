{
 "cells": [
  {
   "cell_type": "code",
   "execution_count": 19,
   "metadata": {},
   "outputs": [
    {
     "name": "stdout",
     "output_type": "stream",
     "text": [
      "5\n",
      "3 8 7 5 5\n",
      "2 4 12 2 8\n"
     ]
    }
   ],
   "source": [
    "\n",
    "N = int(input())\n",
    "A = list(map(int,input().split(\" \")))\n",
    "\n",
    "'''\n",
    "M A M A ... A M\n",
    "1 1 2 2     N 1\n",
    "\n",
    " M A M A M A M\n",
    " 1 1 2 2 3 3 1\n",
    " x\n",
    " a1-x\n",
    " a2-(a1-x) = a2-a1+x\n",
    " a3-(a    ) = a3-a2+a1-x x\n",
    "\n",
    "\n",
    "'''\n",
    "sum_g = sum(A[1::2])\n",
    "sum_k = sum(A[::2])\n",
    "\n",
    "M0 = (sum_k - sum_g)//2\n",
    "M = [0]* N \n",
    "M[0] = M0\n",
    "for i in range(0,N-1):\n",
    "    M[i+1] = A[i]-M[i]\n",
    "    n_before = M[i+1]\n",
    "\n",
    "text = \"\"\n",
    "\n",
    "for m in M:\n",
    "    text += \"{} \".format(m*2)\n",
    "\n",
    "print(text[:-1])\n"
   ]
  }
 ],
 "metadata": {
  "kernelspec": {
   "display_name": "Python 3",
   "language": "python",
   "name": "python3"
  },
  "varInspector": {
   "cols": {
    "lenName": 16,
    "lenType": 16,
    "lenVar": 40
   },
   "kernels_config": {
    "python": {
     "delete_cmd_postfix": "",
     "delete_cmd_prefix": "del ",
     "library": "var_list.py",
     "varRefreshCmd": "print(var_dic_list())"
    },
    "r": {
     "delete_cmd_postfix": ") ",
     "delete_cmd_prefix": "rm(",
     "library": "var_list.r",
     "varRefreshCmd": "cat(var_dic_list()) "
    }
   },
   "types_to_exclude": [
    "module",
    "function",
    "builtin_function_or_method",
    "instance",
    "_Feature"
   ],
   "window_display": false
  }
 },
 "nbformat": 4,
 "nbformat_minor": 2
}
