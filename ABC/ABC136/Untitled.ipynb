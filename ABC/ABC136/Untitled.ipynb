{
 "cells": [
  {
   "cell_type": "code",
   "execution_count": 2,
   "metadata": {},
   "outputs": [],
   "source": [
    "s = \"RRLRLRRRLRRLLLL\""
   ]
  },
  {
   "cell_type": "code",
   "execution_count": 29,
   "metadata": {},
   "outputs": [
    {
     "name": "stdout",
     "output_type": "stream",
     "text": [
      "RRLRLRL\n",
      "2\n",
      "1\n",
      "1\n",
      "1\n",
      "0 1 2 1 1 1 1\n"
     ]
    }
   ],
   "source": [
    "s = input()\n",
    "max_ind = len(s)-1\n",
    "count_l = 0\n",
    "count_r = 0\n",
    "tmp_ind = 0\n",
    "last_ind = -1\n",
    "key_ind = 0\n",
    "flag = True\n",
    "text = \"\"\n",
    "\n",
    "for i,c in enumerate(s):\n",
    "    if flag == True:     \n",
    "        if c == \"R\":\n",
    "            count_r+=1\n",
    "        else:\n",
    "            flag = False\n",
    "            key_ind = i\n",
    "            count_l = 1\n",
    "    else:\n",
    "        if c == \"L\":\n",
    "            count_l += 1\n",
    "        else:\n",
    "            for i in range((key_ind-2)-last_ind):\n",
    "                text += \"0 \"\n",
    "\n",
    "            print(count_r)\n",
    "            print(count_l)\n",
    "\n",
    "            left = (count_r+1)//2 + count_l//2\n",
    "            right = count_r//2 + (count_l+1)//2\n",
    "            text += \"{} \".format(left)\n",
    "            text += \"{} \".format(right)\n",
    "            last_ind = key_ind\n",
    "            # ここで処理をしてしまう。\n",
    "            count_r = 1\n",
    "            flag = True\n",
    "\n",
    "for i in range((key_ind-2)-last_ind):\n",
    "    text += \"0 \"\n",
    "left = (count_r+1)//2 + count_l//2\n",
    "right = count_r//2 + (count_l+1)//2\n",
    "text += \"{} \".format(left)\n",
    "text += \"{} \".format(right)\n",
    "\n",
    "for i in range(max_ind-key_ind):\n",
    "    text += \"0 \"\n",
    "\n",
    "\n",
    "print(text[:-1])\n"
   ]
  }
 ],
 "metadata": {
  "kernelspec": {
   "display_name": "Python 3",
   "language": "python",
   "name": "python3"
  },
  "language_info": {
   "codemirror_mode": {
    "name": "ipython",
    "version": 3
   },
   "file_extension": ".py",
   "mimetype": "text/x-python",
   "name": "python",
   "nbconvert_exporter": "python",
   "pygments_lexer": "ipython3",
   "version": "3.6.4"
  },
  "varInspector": {
   "cols": {
    "lenName": 16,
    "lenType": 16,
    "lenVar": 40
   },
   "kernels_config": {
    "python": {
     "delete_cmd_postfix": "",
     "delete_cmd_prefix": "del ",
     "library": "var_list.py",
     "varRefreshCmd": "print(var_dic_list())"
    },
    "r": {
     "delete_cmd_postfix": ") ",
     "delete_cmd_prefix": "rm(",
     "library": "var_list.r",
     "varRefreshCmd": "cat(var_dic_list()) "
    }
   },
   "types_to_exclude": [
    "module",
    "function",
    "builtin_function_or_method",
    "instance",
    "_Feature"
   ],
   "window_display": false
  }
 },
 "nbformat": 4,
 "nbformat_minor": 2
}
