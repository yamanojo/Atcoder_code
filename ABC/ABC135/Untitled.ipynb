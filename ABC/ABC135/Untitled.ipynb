{
 "cells": [
  {
   "cell_type": "code",
   "execution_count": 7,
   "metadata": {},
   "outputs": [
    {
     "name": "stdout",
     "output_type": "stream",
     "text": [
      "3\n",
      "5 6 3 8\n",
      "5 100 8\n",
      "22\n"
     ]
    }
   ],
   "source": [
    "\n",
    "import numpy as np\n",
    "N = int(input())\n",
    "\n",
    "A_ls = np.array(list(map(int,input().split(\" \"))))\n",
    "B_ls = np.array(list(map(int,input().split(\" \"))))\n",
    "\n",
    "S = 0\n",
    "\n",
    "for i,b in enumerate(B_ls):\n",
    "    if b > A_ls[i]:\n",
    "        b -= A_ls[i]\n",
    "        S += A_ls[i]\n",
    "        if A_ls[i+1] >= b:\n",
    "            A_ls[i+1] -=b\n",
    "            S+=b\n",
    "        else:\n",
    "            S+=A_ls[i+1]\n",
    "            A_ls[i+1] = 0 \n",
    "    else:\n",
    "        S += b\n",
    "\n",
    "print(S)\n"
   ]
  },
  {
   "cell_type": "code",
   "execution_count": 12,
   "metadata": {},
   "outputs": [
    {
     "name": "stdout",
     "output_type": "stream",
     "text": [
      "0 : 1\n",
      "1 : 10\n",
      "2 : 9\n",
      "3 : 12\n",
      "4 : 3\n",
      "5 : 4\n",
      "6 : 1\n",
      "7 : 10\n",
      "8 : 9\n",
      "9 : 12\n",
      "10 : 3\n",
      "11 : 4\n",
      "12 : 1\n",
      "13 : 10\n",
      "14 : 9\n",
      "15 : 12\n",
      "16 : 3\n",
      "17 : 4\n",
      "18 : 1\n",
      "19 : 10\n"
     ]
    }
   ],
   "source": [
    "# s = input()\n",
    "n = 20\n",
    "for i in range(n):\n",
    "    print(\"{} : {}\".format(i,10**i%13)) "
   ]
  }
 ],
 "metadata": {
  "kernelspec": {
   "display_name": "Python 3",
   "language": "python",
   "name": "python3"
  },
  "language_info": {
   "codemirror_mode": {
    "name": "ipython",
    "version": 3
   },
   "file_extension": ".py",
   "mimetype": "text/x-python",
   "name": "python",
   "nbconvert_exporter": "python",
   "pygments_lexer": "ipython3",
   "version": "3.6.4"
  },
  "varInspector": {
   "cols": {
    "lenName": 16,
    "lenType": 16,
    "lenVar": 40
   },
   "kernels_config": {
    "python": {
     "delete_cmd_postfix": "",
     "delete_cmd_prefix": "del ",
     "library": "var_list.py",
     "varRefreshCmd": "print(var_dic_list())"
    },
    "r": {
     "delete_cmd_postfix": ") ",
     "delete_cmd_prefix": "rm(",
     "library": "var_list.r",
     "varRefreshCmd": "cat(var_dic_list()) "
    }
   },
   "types_to_exclude": [
    "module",
    "function",
    "builtin_function_or_method",
    "instance",
    "_Feature"
   ],
   "window_display": false
  }
 },
 "nbformat": 4,
 "nbformat_minor": 2
}
