{
 "cells": [
  {
   "cell_type": "markdown",
   "metadata": {},
   "source": [
    "# 問題メモ"
   ]
  },
  {
   "cell_type": "markdown",
   "metadata": {},
   "source": [
    "### D"
   ]
  },
  {
   "cell_type": "markdown",
   "metadata": {},
   "source": [
    "問題を解く流れ\n",
    "- 1日から順に、入れられるもので最も報酬の高いものを入れていく\n",
    "- M日までいったら終了"
   ]
  },
  {
   "cell_type": "markdown",
   "metadata": {},
   "source": [
    "一日の仕事を列挙して\n",
    "最も報酬が高いモノを選択\n"
   ]
  },
  {
   "cell_type": "markdown",
   "metadata": {},
   "source": [
    "工夫点\n",
    "報酬が高いものを順に\n",
    "〇日のとき、〇日より小さいものはすべて入れられる。（データを保持しておく必要がある。）\n"
   ]
  },
  {
   "cell_type": "code",
   "execution_count": 1,
   "metadata": {},
   "outputs": [],
   "source": [
    "import bisect\n",
    "import time"
   ]
  },
  {
   "cell_type": "code",
   "execution_count": 19,
   "metadata": {},
   "outputs": [],
   "source": [
    "import numpy as np\n",
    "\n",
    "N = 10000\n",
    "\n",
    "a_ls = list(map(int, np.random.rand(N)*10000))"
   ]
  },
  {
   "cell_type": "code",
   "execution_count": 17,
   "metadata": {},
   "outputs": [
    {
     "name": "stdout",
     "output_type": "stream",
     "text": [
      "0.41808509826660156\n",
      "0.012868881225585938\n"
     ]
    }
   ],
   "source": [
    "import numpy as np\n",
    "\n",
    "N = 10000\n",
    "M = 100\n",
    "a_ls = list(map(int, np.random.rand(N)*M))\n",
    "b_ls = list(map(int, np.random.rand(N)*M))\n",
    "now = time.time\n",
    "\n",
    "s = now()\n",
    "c = [[]]*M\n",
    "for a,b in zip(a_ls,b_ls):\n",
    "    c[a].append(b)\n",
    "    \n",
    "\n",
    "for i in range(M):\n",
    "    c[i] = sorted(c[i])\n",
    "    \n",
    "print(now()-s)\n",
    "\n",
    "\n",
    "s = now()\n",
    "d= []\n",
    "for a in a_ls:\n",
    "    d.append(a)\n",
    "ind_sorted = sorted(range(N), key = lambda x:d[x])\n",
    "print(now()-s)\n"
   ]
  },
  {
   "cell_type": "code",
   "execution_count": 34,
   "metadata": {},
   "outputs": [
    {
     "name": "stdout",
     "output_type": "stream",
     "text": [
      "[2, 3, 5, 3, 4]\n",
      "[2, 3, 3, 3, 4, 5]\n",
      "2\n",
      "[3, 3, 5, 3, 4]\n"
     ]
    }
   ],
   "source": [
    "import heapq\n",
    "a = [4,3,5,3,2]\n",
    "heapq.heapify(a)\n",
    "print(a)\n",
    "heapq.heappush(a,3)\n",
    "print(a)\n",
    "print(heapq.heappop(a))\n",
    "print(a)"
   ]
  },
  {
   "cell_type": "code",
   "execution_count": 71,
   "metadata": {},
   "outputs": [
    {
     "name": "stdout",
     "output_type": "stream",
     "text": [
      "5 3\n",
      "1 2\n",
      "1 3\n",
      "1 4\n",
      "2 1\n",
      "2 3\n",
      "1\n",
      "[0]\n",
      "1\n",
      "[-4, -2, -3]\n",
      "2\n",
      "[-3, -3, -1, -2]\n",
      "10\n"
     ]
    }
   ],
   "source": [
    "import bisect\n",
    "import time\n",
    "import heapq\n",
    "\n",
    "\n",
    "# N: バイトの種類\n",
    "# M: 日数の最大\n",
    "N,M = map(int,input().split(\" \"))\n",
    "\n",
    "# A 日数\n",
    "# b バイト代\n",
    "A = []\n",
    "B = []\n",
    "for _ in range(N):\n",
    "    a,b = map(int,input().split(\" \"))\n",
    "    A.append(a)\n",
    "    B.append(-b)\n",
    "\n",
    "# 日数でソート\n",
    "ind_sorted = sorted(range(N), key = lambda x:A[x])\n",
    "tmp_a = 0\n",
    "tmp_b_ls = [0]\n",
    "money = 0\n",
    "tmp_ind = 0\n",
    "for i in range(N):\n",
    "    if A[ind_sorted[i]] > M:\n",
    "        break\n",
    "    if tmp_a != A[ind_sorted[i]]:\n",
    "        # 空いている日数\n",
    "        print(d)\n",
    "        print(tmp_b_ls)\n",
    "        d = A[ind_sorted[i]]-tmp_a\n",
    "        for _ in range(d):\n",
    "            if tmp_b_ls == []:\n",
    "                break\n",
    "            money -= heapq.heappop(tmp_b_ls)\n",
    "        tmp_a = A[ind_sorted[i]]\n",
    "    heapq.heappush(tmp_b_ls,B[ind_sorted[i]])\n",
    "\n",
    "d = M+1-tmp_a\n",
    "print(d)\n",
    "print(tmp_b_ls)\n",
    "\n",
    "for _ in range(d):\n",
    "    if tmp_b_ls == []:\n",
    "        break\n",
    "    money -= heapq.heappop(tmp_b_ls)\n",
    "print(money)"
   ]
  },
  {
   "cell_type": "code",
   "execution_count": 69,
   "metadata": {},
   "outputs": [
    {
     "name": "stdout",
     "output_type": "stream",
     "text": [
      "[1, 4, 2]\n"
     ]
    }
   ],
   "source": [
    "x = [3,4,2,1]\n",
    "heapq.heappop(x)\n",
    "print(x)"
   ]
  },
  {
   "cell_type": "code",
   "execution_count": 42,
   "metadata": {},
   "outputs": [
    {
     "name": "stdout",
     "output_type": "stream",
     "text": [
      "0.007979869842529297\n",
      "0.05234527587890625\n"
     ]
    }
   ],
   "source": [
    "import time\n",
    "import queue\n",
    "\n",
    "now = time.time\n",
    "N = 10000\n",
    "\n",
    "start = now()\n",
    "a = []\n",
    "for i in range(N):\n",
    "    a.append(i)\n",
    "s = 0\n",
    "for j in a:\n",
    "    s += j\n",
    "\n",
    "print(now()-start)\n",
    "\n",
    "# queue\n",
    "start = now()\n",
    "q = queue.Queue()\n",
    "for i in range(N):\n",
    "    q.put(i)\n",
    "'''\n",
    "s = 0\n",
    "while not q.empty():\n",
    "    s += q.get()\n",
    "'''\n",
    "print(now()-start)\n",
    "\n"
   ]
  },
  {
   "cell_type": "code",
   "execution_count": null,
   "metadata": {},
   "outputs": [],
   "source": [
    "a = [[1,2,3],[5,2,7]]\n",
    "sorted(a)"
   ]
  }
 ],
 "metadata": {
  "kernelspec": {
   "display_name": "Python 3",
   "language": "python",
   "name": "python3"
  },
  "language_info": {
   "codemirror_mode": {
    "name": "ipython",
    "version": 3
   },
   "file_extension": ".py",
   "mimetype": "text/x-python",
   "name": "python",
   "nbconvert_exporter": "python",
   "pygments_lexer": "ipython3",
   "version": "3.6.4"
  },
  "varInspector": {
   "cols": {
    "lenName": 16,
    "lenType": 16,
    "lenVar": 40
   },
   "kernels_config": {
    "python": {
     "delete_cmd_postfix": "",
     "delete_cmd_prefix": "del ",
     "library": "var_list.py",
     "varRefreshCmd": "print(var_dic_list())"
    },
    "r": {
     "delete_cmd_postfix": ") ",
     "delete_cmd_prefix": "rm(",
     "library": "var_list.r",
     "varRefreshCmd": "cat(var_dic_list()) "
    }
   },
   "types_to_exclude": [
    "module",
    "function",
    "builtin_function_or_method",
    "instance",
    "_Feature"
   ],
   "window_display": false
  }
 },
 "nbformat": 4,
 "nbformat_minor": 2
}
